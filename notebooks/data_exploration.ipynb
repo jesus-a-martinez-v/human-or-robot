{
 "cells": [
  {
   "cell_type": "markdown",
   "metadata": {
    "collapsed": true
   },
   "source": [
    "# Data Exploration\n",
    "\n",
    "In this notebook we will be exploring both of our datasets:\n",
    "\n",
    " - **bidders** dataset, which is located in train.csv.\n",
    " - **bids** dataset, which is located in bids.csv.\n",
    " \n",
    "Let's start with the shortest one: **Bidders**"
   ]
  },
  {
   "cell_type": "markdown",
   "metadata": {},
   "source": [
    "## Bidders exploratory analysis"
   ]
  },
  {
   "cell_type": "markdown",
   "metadata": {},
   "source": [
    "### Loading the dataset\n",
    "\n",
    "Let's start by loading the dataset in a Pandas' dataframse.\n",
    "\n",
    "**NOTE**: We expect all the relevant files to be located in `../data`."
   ]
  },
  {
   "cell_type": "code",
   "execution_count": 1,
   "metadata": {},
   "outputs": [
    {
     "data": {
      "text/html": [
       "<div>\n",
       "<style>\n",
       "    .dataframe thead tr:only-child th {\n",
       "        text-align: right;\n",
       "    }\n",
       "\n",
       "    .dataframe thead th {\n",
       "        text-align: left;\n",
       "    }\n",
       "\n",
       "    .dataframe tbody tr th {\n",
       "        vertical-align: top;\n",
       "    }\n",
       "</style>\n",
       "<table border=\"1\" class=\"dataframe\">\n",
       "  <thead>\n",
       "    <tr style=\"text-align: right;\">\n",
       "      <th></th>\n",
       "      <th>bidder_id</th>\n",
       "      <th>payment_account</th>\n",
       "      <th>address</th>\n",
       "      <th>outcome</th>\n",
       "    </tr>\n",
       "  </thead>\n",
       "  <tbody>\n",
       "    <tr>\n",
       "      <th>1426</th>\n",
       "      <td>d9576f0ba8c7479eb2b26f0d15c4abfayk5ex</td>\n",
       "      <td>a3d2de7675556553a5f08e4c88d2c228s890p</td>\n",
       "      <td>a3d2de7675556553a5f08e4c88d2c228pdpzb</td>\n",
       "      <td>0.0</td>\n",
       "    </tr>\n",
       "    <tr>\n",
       "      <th>156</th>\n",
       "      <td>ca76df527977e5168e1b3352cfab2ed9htipb</td>\n",
       "      <td>d75b72c487117542fcbb0ce7a24371911a5de</td>\n",
       "      <td>af1f7f6037629540231bf20ca424d356wrk9v</td>\n",
       "      <td>0.0</td>\n",
       "    </tr>\n",
       "    <tr>\n",
       "      <th>987</th>\n",
       "      <td>cb557e4675bf4f36f93ef5599adff545nz370</td>\n",
       "      <td>491396631d5eb6a31b92dcf78c034ac36v2vx</td>\n",
       "      <td>02b646e40106435e0d293cebd157c5931ebq0</td>\n",
       "      <td>0.0</td>\n",
       "    </tr>\n",
       "    <tr>\n",
       "      <th>1005</th>\n",
       "      <td>37702159c6cd2c1a21cf66600e96cdc6rdbff</td>\n",
       "      <td>822810bfcf33e69e0fdcada7c2689a383gae4</td>\n",
       "      <td>0a8f0d1fcc4255db0d4d36873f0b1d259abho</td>\n",
       "      <td>0.0</td>\n",
       "    </tr>\n",
       "    <tr>\n",
       "      <th>689</th>\n",
       "      <td>af5d33f9724b0e8c1f875406c0556d1e6eotm</td>\n",
       "      <td>852d7ae9bd6cf7f4a5d8a3321998dd88bjrov</td>\n",
       "      <td>aa93ed2eb0134d1bd800f56b9c07a843jqspy</td>\n",
       "      <td>0.0</td>\n",
       "    </tr>\n",
       "    <tr>\n",
       "      <th>1466</th>\n",
       "      <td>67ab503313f60aaba89f64e2ce3b459fvyahu</td>\n",
       "      <td>00016d5c35b1090c2516138babe21a50jcr1b</td>\n",
       "      <td>c89b2a7a0f7d3ba109dd2cbc14558c88bk75j</td>\n",
       "      <td>0.0</td>\n",
       "    </tr>\n",
       "    <tr>\n",
       "      <th>186</th>\n",
       "      <td>e613acb1029ecafd9792c9f75d468e4bmm9zn</td>\n",
       "      <td>a3d2de7675556553a5f08e4c88d2c228eovaw</td>\n",
       "      <td>a3d2de7675556553a5f08e4c88d2c228rj4u3</td>\n",
       "      <td>0.0</td>\n",
       "    </tr>\n",
       "    <tr>\n",
       "      <th>1422</th>\n",
       "      <td>e134f2bb79d1a810aada6a24760c8910mh5na</td>\n",
       "      <td>a3d2de7675556553a5f08e4c88d2c2287j1ho</td>\n",
       "      <td>e350bda3ceb6067cad400ae931c3527aodbiw</td>\n",
       "      <td>0.0</td>\n",
       "    </tr>\n",
       "    <tr>\n",
       "      <th>634</th>\n",
       "      <td>7c965df16147f68263573764dd257a7bxqmpt</td>\n",
       "      <td>a3d2de7675556553a5f08e4c88d2c228qhaxv</td>\n",
       "      <td>d1e7fd494d76ca843bdb0350ad14cbf0956va</td>\n",
       "      <td>0.0</td>\n",
       "    </tr>\n",
       "    <tr>\n",
       "      <th>1734</th>\n",
       "      <td>96dccfc370343f6871dc478d5b2fc3ffx95d3</td>\n",
       "      <td>a3d2de7675556553a5f08e4c88d2c228333u1</td>\n",
       "      <td>794abfcfc9a51569c6415a61a319b352bvmem</td>\n",
       "      <td>0.0</td>\n",
       "    </tr>\n",
       "  </tbody>\n",
       "</table>\n",
       "</div>"
      ],
      "text/plain": [
       "                                  bidder_id  \\\n",
       "1426  d9576f0ba8c7479eb2b26f0d15c4abfayk5ex   \n",
       "156   ca76df527977e5168e1b3352cfab2ed9htipb   \n",
       "987   cb557e4675bf4f36f93ef5599adff545nz370   \n",
       "1005  37702159c6cd2c1a21cf66600e96cdc6rdbff   \n",
       "689   af5d33f9724b0e8c1f875406c0556d1e6eotm   \n",
       "1466  67ab503313f60aaba89f64e2ce3b459fvyahu   \n",
       "186   e613acb1029ecafd9792c9f75d468e4bmm9zn   \n",
       "1422  e134f2bb79d1a810aada6a24760c8910mh5na   \n",
       "634   7c965df16147f68263573764dd257a7bxqmpt   \n",
       "1734  96dccfc370343f6871dc478d5b2fc3ffx95d3   \n",
       "\n",
       "                            payment_account  \\\n",
       "1426  a3d2de7675556553a5f08e4c88d2c228s890p   \n",
       "156   d75b72c487117542fcbb0ce7a24371911a5de   \n",
       "987   491396631d5eb6a31b92dcf78c034ac36v2vx   \n",
       "1005  822810bfcf33e69e0fdcada7c2689a383gae4   \n",
       "689   852d7ae9bd6cf7f4a5d8a3321998dd88bjrov   \n",
       "1466  00016d5c35b1090c2516138babe21a50jcr1b   \n",
       "186   a3d2de7675556553a5f08e4c88d2c228eovaw   \n",
       "1422  a3d2de7675556553a5f08e4c88d2c2287j1ho   \n",
       "634   a3d2de7675556553a5f08e4c88d2c228qhaxv   \n",
       "1734  a3d2de7675556553a5f08e4c88d2c228333u1   \n",
       "\n",
       "                                    address  outcome  \n",
       "1426  a3d2de7675556553a5f08e4c88d2c228pdpzb      0.0  \n",
       "156   af1f7f6037629540231bf20ca424d356wrk9v      0.0  \n",
       "987   02b646e40106435e0d293cebd157c5931ebq0      0.0  \n",
       "1005  0a8f0d1fcc4255db0d4d36873f0b1d259abho      0.0  \n",
       "689   aa93ed2eb0134d1bd800f56b9c07a843jqspy      0.0  \n",
       "1466  c89b2a7a0f7d3ba109dd2cbc14558c88bk75j      0.0  \n",
       "186   a3d2de7675556553a5f08e4c88d2c228rj4u3      0.0  \n",
       "1422  e350bda3ceb6067cad400ae931c3527aodbiw      0.0  \n",
       "634   d1e7fd494d76ca843bdb0350ad14cbf0956va      0.0  \n",
       "1734  794abfcfc9a51569c6415a61a319b352bvmem      0.0  "
      ]
     },
     "execution_count": 1,
     "metadata": {},
     "output_type": "execute_result"
    }
   ],
   "source": [
    "import pandas as pd\n",
    "\n",
    "# Change accordingly.\n",
    "bidders_file_path = \"../data/train.csv\"\n",
    "\n",
    "bidders_dataframe = pd.read_csv(bidders_file_path)\n",
    "\n",
    "sample_size = 10\n",
    "\n",
    "# Let's start by taking a small sample\n",
    "bidders_dataframe.sample(n=sample_size)"
   ]
  },
  {
   "cell_type": "markdown",
   "metadata": {},
   "source": [
    "As we can see above, all the relevant fields (besides outcome) are obfuscated. \n",
    "\n",
    "This doesn't mean they won't be useful for our model, but surely make things a bit harder to interpret for us."
   ]
  },
  {
   "cell_type": "markdown",
   "metadata": {},
   "source": [
    "### Descriptive statistics"
   ]
  },
  {
   "cell_type": "code",
   "execution_count": 2,
   "metadata": {},
   "outputs": [
    {
     "name": "stdout",
     "output_type": "stream",
     "text": [
      "Number of total bidders: 2,013\n",
      "Number of human bidders: 1,910\n",
      "Number of bot bidders: 103\n",
      "Proportion of human bidders: 94.88%\n",
      "Proportion of bot bidders: 5.12%\n"
     ]
    }
   ],
   "source": [
    "# Totals\n",
    "total_bidders = len(bidders_dataframe)\n",
    "number_of_human_bidders = len(bidders_dataframe[bidders_dataframe['outcome'] == 0.0])\n",
    "number_of_bot_bidders = total_bidders - number_of_human_bidders\n",
    "\n",
    "# Proportions\n",
    "human_bidders_proportion = number_of_human_bidders / total_bidders\n",
    "bot_bidders_proportion = number_of_bot_bidders / total_bidders\n",
    "\n",
    "# Statistics\n",
    "print(\"Number of total bidders: {:,}\".format(total_bidders))\n",
    "print(\"Number of human bidders: {:,}\".format(number_of_human_bidders))\n",
    "print(\"Number of bot bidders: {:,}\".format(number_of_bot_bidders))\n",
    "print(\"Proportion of human bidders: {:.2%}\".format(human_bidders_proportion))\n",
    "print(\"Proportion of bot bidders: {:.2%}\".format(bot_bidders_proportion))"
   ]
  },
  {
   "cell_type": "markdown",
   "metadata": {},
   "source": [
    "The first thing we notice is that our dataset is highly unbalanced, where 1910 out of 2013 records represent human bidders (94.88%), whereas only a small percentage (5.12%) of the bidders were flagged as bots (103 out of 2013).\n",
    "\n",
    "For a better understanding of this situation, let's visualize it:"
   ]
  },
  {
   "cell_type": "code",
   "execution_count": 3,
   "metadata": {},
   "outputs": [
    {
     "data": {
      "image/png": "[encoded data removed]",
      "text/plain": [
       "<matplotlib.figure.Figure at 0x7fe55d62fd30>"
      ]
     },
     "metadata": {},
     "output_type": "display_data"
    }
   ],
   "source": [
    "import matplotlib.pyplot as plt\n",
    "\n",
    "_, ax = plt.subplots()\n",
    "\n",
    "# Pie chart parameters\n",
    "pie_data = [number_of_human_bidders, number_of_bot_bidders]\n",
    "pie_labels = ('Humans', 'Bots')\n",
    "pie_labels_explode_coefficients = (0, 0.175)\n",
    "\n",
    "# Show the chart\n",
    "ax.pie(pie_data, labels=pie_labels, autopct='%1.2f%%', shadow=False, explode=pie_labels_explode_coefficients)\n",
    "plt.axis('equal')\n",
    "plt.show()"
   ]
  },
  {
   "cell_type": "markdown",
   "metadata": {},
   "source": [
    "___"
   ]
  },
  {
   "cell_type": "markdown",
   "metadata": {},
   "source": [
    "## Bids exploratory analysis\n",
    "\n",
    "Let's now proceed to explore the **bids** dataset.\n",
    "\n",
    "**NOTE**: We expect all the relevant files to be located in `../data`."
   ]
  },
  {
   "cell_type": "code",
   "execution_count": 4,
   "metadata": {},
   "outputs": [
    {
     "data": {
      "text/html": [
       "<div>\n",
       "<style>\n",
       "    .dataframe thead tr:only-child th {\n",
       "        text-align: right;\n",
       "    }\n",
       "\n",
       "    .dataframe thead th {\n",
       "        text-align: left;\n",
       "    }\n",
       "\n",
       "    .dataframe tbody tr th {\n",
       "        vertical-align: top;\n",
       "    }\n",
       "</style>\n",
       "<table border=\"1\" class=\"dataframe\">\n",
       "  <thead>\n",
       "    <tr style=\"text-align: right;\">\n",
       "      <th></th>\n",
       "      <th>bid_id</th>\n",
       "      <th>bidder_id</th>\n",
       "      <th>auction</th>\n",
       "      <th>merchandise</th>\n",
       "      <th>device</th>\n",
       "      <th>time</th>\n",
       "      <th>country</th>\n",
       "      <th>ip</th>\n",
       "      <th>url</th>\n",
       "    </tr>\n",
       "  </thead>\n",
       "  <tbody>\n",
       "    <tr>\n",
       "      <th>0</th>\n",
       "      <td>0</td>\n",
       "      <td>8dac2b259fd1c6d1120e519fb1ac14fbqvax8</td>\n",
       "      <td>ewmzr</td>\n",
       "      <td>jewelry</td>\n",
       "      <td>phone0</td>\n",
       "      <td>9759243157894736</td>\n",
       "      <td>us</td>\n",
       "      <td>69.166.231.58</td>\n",
       "      <td>vasstdc27m7nks3</td>\n",
       "    </tr>\n",
       "    <tr>\n",
       "      <th>1</th>\n",
       "      <td>1</td>\n",
       "      <td>668d393e858e8126275433046bbd35c6tywop</td>\n",
       "      <td>aeqok</td>\n",
       "      <td>furniture</td>\n",
       "      <td>phone1</td>\n",
       "      <td>9759243157894736</td>\n",
       "      <td>in</td>\n",
       "      <td>50.201.125.84</td>\n",
       "      <td>jmqlhflrzwuay9c</td>\n",
       "    </tr>\n",
       "    <tr>\n",
       "      <th>2</th>\n",
       "      <td>2</td>\n",
       "      <td>aa5f360084278b35d746fa6af3a7a1a5ra3xe</td>\n",
       "      <td>wa00e</td>\n",
       "      <td>home goods</td>\n",
       "      <td>phone2</td>\n",
       "      <td>9759243157894736</td>\n",
       "      <td>py</td>\n",
       "      <td>112.54.208.157</td>\n",
       "      <td>vasstdc27m7nks3</td>\n",
       "    </tr>\n",
       "    <tr>\n",
       "      <th>3</th>\n",
       "      <td>3</td>\n",
       "      <td>3939ac3ef7d472a59a9c5f893dd3e39fh9ofi</td>\n",
       "      <td>jefix</td>\n",
       "      <td>jewelry</td>\n",
       "      <td>phone4</td>\n",
       "      <td>9759243157894736</td>\n",
       "      <td>in</td>\n",
       "      <td>18.99.175.133</td>\n",
       "      <td>vasstdc27m7nks3</td>\n",
       "    </tr>\n",
       "    <tr>\n",
       "      <th>4</th>\n",
       "      <td>4</td>\n",
       "      <td>8393c48eaf4b8fa96886edc7cf27b372dsibi</td>\n",
       "      <td>jefix</td>\n",
       "      <td>jewelry</td>\n",
       "      <td>phone5</td>\n",
       "      <td>9759243157894736</td>\n",
       "      <td>in</td>\n",
       "      <td>145.138.5.37</td>\n",
       "      <td>vasstdc27m7nks3</td>\n",
       "    </tr>\n",
       "    <tr>\n",
       "      <th>5</th>\n",
       "      <td>5</td>\n",
       "      <td>e8291466de91b0eb4e1515143c7f74dexy2yr</td>\n",
       "      <td>3vi4t</td>\n",
       "      <td>mobile</td>\n",
       "      <td>phone7</td>\n",
       "      <td>9759243157894736</td>\n",
       "      <td>ru</td>\n",
       "      <td>91.107.221.27</td>\n",
       "      <td>vasstdc27m7nks3</td>\n",
       "    </tr>\n",
       "    <tr>\n",
       "      <th>6</th>\n",
       "      <td>6</td>\n",
       "      <td>eef4c687daf977f64fc1d08675c44444raj3s</td>\n",
       "      <td>kjlzx</td>\n",
       "      <td>mobile</td>\n",
       "      <td>phone2</td>\n",
       "      <td>9759243210526315</td>\n",
       "      <td>th</td>\n",
       "      <td>152.235.155.159</td>\n",
       "      <td>j9nl1xmo6fqhcc6</td>\n",
       "    </tr>\n",
       "    <tr>\n",
       "      <th>7</th>\n",
       "      <td>7</td>\n",
       "      <td>ab056855c9ca9d36390feae1fa485883issyg</td>\n",
       "      <td>f5f6k</td>\n",
       "      <td>home goods</td>\n",
       "      <td>phone8</td>\n",
       "      <td>9759243210526315</td>\n",
       "      <td>id</td>\n",
       "      <td>3.210.112.183</td>\n",
       "      <td>hnt6hu93a3z1cpc</td>\n",
       "    </tr>\n",
       "    <tr>\n",
       "      <th>8</th>\n",
       "      <td>8</td>\n",
       "      <td>d600dc03b11e7d782e1e4dae091b084a1h5ch</td>\n",
       "      <td>h7jjx</td>\n",
       "      <td>home goods</td>\n",
       "      <td>phone9</td>\n",
       "      <td>9759243210526315</td>\n",
       "      <td>th</td>\n",
       "      <td>103.64.157.225</td>\n",
       "      <td>vasstdc27m7nks3</td>\n",
       "    </tr>\n",
       "    <tr>\n",
       "      <th>9</th>\n",
       "      <td>9</td>\n",
       "      <td>a58ace8b671a7531c88814bc86b2a34cf0crb</td>\n",
       "      <td>3zpkj</td>\n",
       "      <td>sporting goods</td>\n",
       "      <td>phone4</td>\n",
       "      <td>9759243210526315</td>\n",
       "      <td>za</td>\n",
       "      <td>123.28.123.226</td>\n",
       "      <td>vasstdc27m7nks3</td>\n",
       "    </tr>\n",
       "  </tbody>\n",
       "</table>\n",
       "</div>"
      ],
      "text/plain": [
       "   bid_id                              bidder_id auction     merchandise  \\\n",
       "0       0  8dac2b259fd1c6d1120e519fb1ac14fbqvax8   ewmzr         jewelry   \n",
       "1       1  668d393e858e8126275433046bbd35c6tywop   aeqok       furniture   \n",
       "2       2  aa5f360084278b35d746fa6af3a7a1a5ra3xe   wa00e      home goods   \n",
       "3       3  3939ac3ef7d472a59a9c5f893dd3e39fh9ofi   jefix         jewelry   \n",
       "4       4  8393c48eaf4b8fa96886edc7cf27b372dsibi   jefix         jewelry   \n",
       "5       5  e8291466de91b0eb4e1515143c7f74dexy2yr   3vi4t          mobile   \n",
       "6       6  eef4c687daf977f64fc1d08675c44444raj3s   kjlzx          mobile   \n",
       "7       7  ab056855c9ca9d36390feae1fa485883issyg   f5f6k      home goods   \n",
       "8       8  d600dc03b11e7d782e1e4dae091b084a1h5ch   h7jjx      home goods   \n",
       "9       9  a58ace8b671a7531c88814bc86b2a34cf0crb   3zpkj  sporting goods   \n",
       "\n",
       "   device              time country               ip              url  \n",
       "0  phone0  9759243157894736      us    69.166.231.58  vasstdc27m7nks3  \n",
       "1  phone1  9759243157894736      in    50.201.125.84  jmqlhflrzwuay9c  \n",
       "2  phone2  9759243157894736      py   112.54.208.157  vasstdc27m7nks3  \n",
       "3  phone4  9759243157894736      in    18.99.175.133  vasstdc27m7nks3  \n",
       "4  phone5  9759243157894736      in     145.138.5.37  vasstdc27m7nks3  \n",
       "5  phone7  9759243157894736      ru    91.107.221.27  vasstdc27m7nks3  \n",
       "6  phone2  9759243210526315      th  152.235.155.159  j9nl1xmo6fqhcc6  \n",
       "7  phone8  9759243210526315      id    3.210.112.183  hnt6hu93a3z1cpc  \n",
       "8  phone9  9759243210526315      th   103.64.157.225  vasstdc27m7nks3  \n",
       "9  phone4  9759243210526315      za   123.28.123.226  vasstdc27m7nks3  "
      ]
     },
     "execution_count": 4,
     "metadata": {},
     "output_type": "execute_result"
    }
   ],
   "source": [
    "# Change accordingly.\n",
    "bids_file_path = \"../data/bids.csv\"\n",
    "\n",
    "bids_dataframe = pd.read_csv(bids_file_path)\n",
    "\n",
    "sample_size = 10\n",
    "\n",
    "# Let's start by taking a small sample\n",
    "#bids_dataframe.sample(n=sample_size)\n",
    "bids_dataframe.head(n=sample_size)"
   ]
  },
  {
   "cell_type": "markdown",
   "metadata": {},
   "source": [
    "As we can see above, fields such as time, bidder_id, auction, device and url are obfuscated. \n",
    "\n",
    "This doesn't mean they won't be useful for our model, but surely make things a bit harder to interpret for us."
   ]
  },
  {
   "cell_type": "markdown",
   "metadata": {
    "collapsed": true
   },
   "source": [
    "### Descriptive statistics"
   ]
  },
  {
   "cell_type": "code",
   "execution_count": 5,
   "metadata": {},
   "outputs": [
    {
     "name": "stdout",
     "output_type": "stream",
     "text": [
      "Number of bids: 7,656,334\n",
      "Number of auctions: 15,051\n",
      "Number of total bidders in bids dataset: 6,614\n",
      "Number of devices: 7,351\n",
      "Number of countries: 200\n",
      "Number of IPs: 2,303,991\n",
      "Number of URLs: 1,786,351\n",
      "Number of merchandise categories: 10\n"
     ]
    }
   ],
   "source": [
    "# Totals\n",
    "total_bids = len(bids_dataframe)\n",
    "total_auctions = len(set(bids_dataframe['auction']))\n",
    "total_bidders_in_bids_dataframe = len(set(bids_dataframe['bidder_id']))\n",
    "total_devices = len(set(bids_dataframe['device']))\n",
    "total_countries = len(set(bids_dataframe['country']))\n",
    "total_ips = len(set(bids_dataframe['ip']))\n",
    "total_urls = len(set(bids_dataframe['url']))\n",
    "total_merchandise_categories = len(set(bids_dataframe['merchandise']))\n",
    "\n",
    "print(\"Number of bids: {:,}\".format(total_bids))\n",
    "print(\"Number of auctions: {:,}\".format(total_auctions))\n",
    "print(\"Number of total bidders in bids dataset: {:,}\".format(total_bidders_in_bids_dataframe))\n",
    "print(\"Number of devices: {:,}\".format(total_devices))\n",
    "print(\"Number of countries: {:,}\".format(total_countries))\n",
    "print(\"Number of IPs: {:,}\".format(total_ips))\n",
    "print(\"Number of URLs: {:,}\".format(total_urls))\n",
    "print(\"Number of merchandise categories: {:,}\".format(total_merchandise_categories))"
   ]
  },
  {
   "cell_type": "code",
   "execution_count": 6,
   "metadata": {},
   "outputs": [
    {
     "name": "stdout",
     "output_type": "stream",
     "text": [
      "Average number of auctions per user: 57.807831871787116\n",
      "Median of auctions per user: 10.0\n",
      "Mode of auctions per user: 1\n",
      "User with more auctions: 1726\n",
      "User with less auctions: 1\n",
      "-----------------------------\n",
      "Average number of bids per user: 1157.595101300272\n",
      "Median of bids per user: 18.0\n",
      "Mode of bids per user: 1\n",
      "User with more bids: 515033\n",
      "User with less bids: 1\n",
      "-----------------------------\n",
      "Average number of countries per user: 12.72422134865437\n",
      "Median of countries per user: 3.0\n",
      "Mode of countries per user: 1\n",
      "User with more countries: 178\n",
      "User with less countries: 0\n",
      "-----------------------------\n",
      "Average number of IPs per user: 544.0963108557605\n",
      "Median of IPs per user: 12.0\n",
      "Mode of IPs per user: 1\n",
      "User with more IPs: 111918\n",
      "User with less IPs: 1\n",
      "-----------------------------\n"
     ]
    }
   ],
   "source": [
    "data_per_user = bids_dataframe.groupby(['bidder_id'])\n",
    "\n",
    "auctions_per_user = data_per_user['auction'].nunique()\n",
    "mean_auctions_per_user = auctions_per_user.mean()\n",
    "median_auctions_per_user = auctions_per_user.median()\n",
    "mode_auctions_per_user = auctions_per_user.mode()\n",
    "\n",
    "print(\"Average number of auctions per user: {}\".format(mean_auctions_per_user))\n",
    "print(\"Median of auctions per user: {}\".format(median_auctions_per_user))\n",
    "print(\"Mode of auctions per user: {}\".format(mode_auctions_per_user[0]))\n",
    "print(\"User with more auctions: {}\".format(auctions_per_user.max()))\n",
    "print(\"User with less auctions: {}\".format(auctions_per_user.min()))\n",
    "print(\"-----------------------------\")\n",
    "\n",
    "bids_per_user = data_per_user['bid_id'].count()\n",
    "mean_bids_per_user = bids_per_user.mean()\n",
    "median_bids_per_user = bids_per_user.median()\n",
    "mode_bids_per_user = bids_per_user.mode()\n",
    "\n",
    "print(\"Average number of bids per user: {}\".format(mean_bids_per_user))\n",
    "print(\"Median of bids per user: {}\".format(median_bids_per_user))\n",
    "print(\"Mode of bids per user: {}\".format(mode_bids_per_user[0]))\n",
    "print(\"User with more bids: {}\".format(bids_per_user.max()))\n",
    "print(\"User with less bids: {}\".format(bids_per_user.min()))\n",
    "print(\"-----------------------------\")\n",
    "\n",
    "countries_per_user = data_per_user['country'].nunique()\n",
    "mean_countries_per_user = countries_per_user.mean()\n",
    "median_countries_per_user = countries_per_user.median()\n",
    "mode_countries_per_user = countries_per_user.mode()\n",
    "\n",
    "print(\"Average number of countries per user: {}\".format(mean_countries_per_user))\n",
    "print(\"Median of countries per user: {}\".format(median_countries_per_user))\n",
    "print(\"Mode of countries per user: {}\".format(mode_countries_per_user[0]))\n",
    "print(\"User with more countries: {}\".format(countries_per_user.max()))\n",
    "print(\"User with less countries: {}\".format(countries_per_user.min()))\n",
    "print(\"-----------------------------\")\n",
    "\n",
    "ips_per_user = data_per_user['ip'].nunique()\n",
    "mean_ips_per_user = ips_per_user.mean()\n",
    "median_ips_per_user = ips_per_user.median()\n",
    "mode_ips_per_user = ips_per_user.mode()\n",
    "\n",
    "print(\"Average number of IPs per user: {}\".format(mean_ips_per_user))\n",
    "print(\"Median of IPs per user: {}\".format(median_ips_per_user))\n",
    "print(\"Mode of IPs per user: {}\".format(mode_ips_per_user[0]))\n",
    "print(\"User with more IPs: {}\".format(ips_per_user.max()))\n",
    "print(\"User with less IPs: {}\".format(ips_per_user.min()))\n",
    "print(\"-----------------------------\")\n",
    "\n",
    "bids_per_auction_ratio_per_user = bids_per_user / auctions_per_user\n",
    "average_response_time_per_user = data_per_user['time'].apply(lambda x: x.diff().mean()).fillna(0)"
   ]
  },
  {
   "cell_type": "markdown",
   "metadata": {
    "collapsed": true
   },
   "source": [
    "# Exploratory Visualization"
   ]
  },
  {
   "cell_type": "markdown",
   "metadata": {},
   "source": [
    "Given our aim is to determine which information or bidding behavior is characteristic of bot users, we are going to focus on visualizing only data related to bidders.\n",
    "\n",
    "Let's start by seeing again the distribution between bidders labeled as bots and as humans:"
   ]
  },
  {
   "cell_type": "code",
   "execution_count": 7,
   "metadata": {},
   "outputs": [
    {
     "data": {
      "image/png": "[encoded data removed]",
      "text/plain": [
       "<matplotlib.figure.Figure at 0x7fe5589ee4e0>"
      ]
     },
     "metadata": {},
     "output_type": "display_data"
    }
   ],
   "source": [
    "import numpy as np\n",
    "y_pos = np.arange(len(pie_labels))\n",
    "performance = [10,8,6,4,2,1]\n",
    " \n",
    "plt.bar(y_pos, pie_data, align='center', alpha=0.5, color=['green', 'red'])\n",
    "plt.xticks(y_pos, pie_labels)\n",
    "plt.ylabel('Count')\n",
    "plt.title('Number of users per category')\n",
    "\n",
    "plt.show()"
   ]
  },
  {
   "cell_type": "markdown",
   "metadata": {},
   "source": [
    "Let's now visualize auctions per user:"
   ]
  },
  {
   "cell_type": "code",
   "execution_count": 53,
   "metadata": {},
   "outputs": [
    {
     "data": {
      "image/png": "[encoded data removed]",
      "text/plain": [
       "<matplotlib.figure.Figure at 0x7fe5581c9d68>"
      ]
     },
     "metadata": {},
     "output_type": "display_data"
    }
   ],
   "source": [
    "plt.figure(figsize=(10,10))\n",
    "# Explore log=True, cumulative=True\n",
    "plt.hist(auctions_per_user, bins='auto')\n",
    "plt.yticks(range(0, 2800, 100))\n",
    "plt.xticks(range(0, 1800, 100))\n",
    "plt.title(\"Distribution of auctions per user\")\n",
    "plt.xlabel(\"Number of auctions\")\n",
    "plt.ylabel(\"Frequency\")\n",
    "plt.show()"
   ]
  },
  {
   "cell_type": "code",
   "execution_count": 59,
   "metadata": {},
   "outputs": [
    {
     "data": {
      "image/png": "[encoded data removed]",
      "text/plain": [
       "<matplotlib.figure.Figure at 0x7fe557efabe0>"
      ]
     },
     "metadata": {},
     "output_type": "display_data"
    }
   ],
   "source": [
    "plt.figure(figsize=(10,10))\n",
    "# Explore log=True, cumulative=True\n",
    "plt.hist(bids_per_user, bins='auto', cumulative=True, color='green')\n",
    "#plt.yticks(range(0, 2800, 100))\n",
    "#plt.xticks(range(0, 1800, 100))\n",
    "plt.title(\"Distribution of bids per user\")\n",
    "plt.xlabel(\"Number of bids\")\n",
    "plt.ylabel(\"Frequency\")\n",
    "plt.show()"
   ]
  },
  {
   "cell_type": "code",
   "execution_count": 58,
   "metadata": {},
   "outputs": [
    {
     "data": {
      "image/png": "[encoded data removed]",
      "text/plain": [
       "<matplotlib.figure.Figure at 0x7fe552f29908>"
      ]
     },
     "metadata": {},
     "output_type": "display_data"
    }
   ],
   "source": [
    "plt.figure(figsize=(10,10))\n",
    "# Explore log=True, cumulative=True\n",
    "plt.hist(countries_per_user, bins='auto', color='red')\n",
    "#plt.yticks(range(0, 2800, 100))\n",
    "#plt.xticks(range(0, 1800, 100))\n",
    "plt.title(\"Distribution of countries per user\")\n",
    "plt.xlabel(\"Number of countries\")\n",
    "plt.ylabel(\"Frequency\")\n",
    "plt.show()"
   ]
  },
  {
   "cell_type": "code",
   "execution_count": 73,
   "metadata": {},
   "outputs": [
    {
     "data": {
      "image/png": "[encoded data removed]",
      "text/plain": [
       "<matplotlib.figure.Figure at 0x7fe552c6b470>"
      ]
     },
     "metadata": {},
     "output_type": "display_data"
    }
   ],
   "source": [
    "plt.figure(figsize=(10,10))\n",
    "# Explore log=True, cumulative=True\n",
    "#plt.plot(sorted(ips_per_user.values, reverse=True))\n",
    "plt.hist(ips_per_user, bins='auto', color='purple', cumulative=True)\n",
    "#plt.yticks(range(0, 2800, 100))\n",
    "#plt.xticks(range(0, 1800, 100))\n",
    "plt.title(\"Distribution of IPs per user\")\n",
    "plt.xlabel(\"Number of IPs\")\n",
    "plt.ylabel(\"Frequency\")\n",
    "plt.show()"
   ]
  },
  {
   "cell_type": "code",
   "execution_count": 81,
   "metadata": {},
   "outputs": [
    {
     "data": {
      "image/png": "[encoded data removed]",
      "text/plain": [
       "<matplotlib.figure.Figure at 0x7fe557c5aa58>"
      ]
     },
     "metadata": {},
     "output_type": "display_data"
    }
   ],
   "source": [
    "# Explore log=True, cumulative=True\n",
    "plt.plot(sorted(bids_per_auction_ratio_per_user.values, reverse=True), 'r+--')\n",
    "#plt.yticks(range(0, 2800, 100))\n",
    "#plt.xticks(range(0, 1800, 100))\n",
    "plt.title(\"Distribution of bids per user\")\n",
    "plt.xlabel(\"Number of bids\")\n",
    "plt.ylabel(\"Frequency\")\n",
    "plt.show()"
   ]
  },
  {
   "cell_type": "code",
   "execution_count": null,
   "metadata": {
    "collapsed": true
   },
   "outputs": [],
   "source": []
  }
 ],
 "metadata": {
  "kernelspec": {
   "display_name": "Python 3",
   "language": "python",
   "name": "python3"
  },
  "language_info": {
   "codemirror_mode": {
    "name": "ipython",
    "version": 3
   },
   "file_extension": ".py",
   "mimetype": "text/x-python",
   "name": "python",
   "nbconvert_exporter": "python",
   "pygments_lexer": "ipython3",
   "version": "3.5.2"
  }
 },
 "nbformat": 4,
 "nbformat_minor": 1
}
