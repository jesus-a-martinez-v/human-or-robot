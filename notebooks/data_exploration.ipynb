{
 "cells": [
  {
   "cell_type": "markdown",
   "metadata": {
    "collapsed": true
   },
   "source": [
    "# Data Exploration\n",
    "\n",
    "In this notebook we will be exploring both of our datasets:\n",
    "\n",
    " - **bidders** dataset, which is located in train.csv.\n",
    " - **bids** dataset, which is located in bids.csv.\n",
    " \n",
    "Let's start with the shortest one: **Bidders**"
   ]
  },
  {
   "cell_type": "markdown",
   "metadata": {},
   "source": [
    "## Bidders exploratory analysis"
   ]
  },
  {
   "cell_type": "markdown",
   "metadata": {},
   "source": [
    "### Loading the dataset\n",
    "\n",
    "Let's start by loading the dataset in a Pandas' dataframse.\n",
    "\n",
    "**NOTE**: We expect all the relevant files to be located in `../data`."
   ]
  },
  {
   "cell_type": "code",
   "execution_count": 1,
   "metadata": {},
   "outputs": [
    {
     "data": {
      "text/html": [
       "<div>\n",
       "<style>\n",
       "    .dataframe thead tr:only-child th {\n",
       "        text-align: right;\n",
       "    }\n",
       "\n",
       "    .dataframe thead th {\n",
       "        text-align: left;\n",
       "    }\n",
       "\n",
       "    .dataframe tbody tr th {\n",
       "        vertical-align: top;\n",
       "    }\n",
       "</style>\n",
       "<table border=\"1\" class=\"dataframe\">\n",
       "  <thead>\n",
       "    <tr style=\"text-align: right;\">\n",
       "      <th></th>\n",
       "      <th>bidder_id</th>\n",
       "      <th>payment_account</th>\n",
       "      <th>address</th>\n",
       "      <th>outcome</th>\n",
       "    </tr>\n",
       "  </thead>\n",
       "  <tbody>\n",
       "    <tr>\n",
       "      <th>1220</th>\n",
       "      <td>84560dfb1400fe920a29ca2c728acf1e25eli</td>\n",
       "      <td>c165a3c456b35ac135138f02ce1efa665a1pz</td>\n",
       "      <td>6fc6c3ca58ac5f2d9098e022bb6acf59phg09</td>\n",
       "      <td>0.0</td>\n",
       "    </tr>\n",
       "    <tr>\n",
       "      <th>147</th>\n",
       "      <td>3edae72a9d44c43524c0203ce38581d1790xh</td>\n",
       "      <td>6ee9065c7f23516651fe5975fdb46a4ee8u98</td>\n",
       "      <td>c1c47f4178a44b82f49bcb468b0d26d0ag7w5</td>\n",
       "      <td>0.0</td>\n",
       "    </tr>\n",
       "    <tr>\n",
       "      <th>319</th>\n",
       "      <td>a74e3962ca26514976056bae3c46d579emz6y</td>\n",
       "      <td>a3d2de7675556553a5f08e4c88d2c228ph81s</td>\n",
       "      <td>75ff8da638ebe844ad5fe1a14e4e6fbawm8ud</td>\n",
       "      <td>0.0</td>\n",
       "    </tr>\n",
       "    <tr>\n",
       "      <th>482</th>\n",
       "      <td>584d1d60d357a4ee1fd3b0a6a72de1dc4rodn</td>\n",
       "      <td>a3d2de7675556553a5f08e4c88d2c228ztnjt</td>\n",
       "      <td>a3d2de7675556553a5f08e4c88d2c228qiakd</td>\n",
       "      <td>0.0</td>\n",
       "    </tr>\n",
       "    <tr>\n",
       "      <th>1393</th>\n",
       "      <td>64abb8a286b2be97349e8b17abcce6d9rygza</td>\n",
       "      <td>a3d2de7675556553a5f08e4c88d2c22815b7y</td>\n",
       "      <td>f1c490904e66a68a3a03c5be9faa6f44tprqm</td>\n",
       "      <td>0.0</td>\n",
       "    </tr>\n",
       "    <tr>\n",
       "      <th>511</th>\n",
       "      <td>b1bc9ff2b98df742affda07c5977c7345dpm5</td>\n",
       "      <td>8d6440f57adbd2563c102f4226c0e014b2wzs</td>\n",
       "      <td>dbc5678b0387bff64d5df269b116806cx8uh8</td>\n",
       "      <td>0.0</td>\n",
       "    </tr>\n",
       "    <tr>\n",
       "      <th>266</th>\n",
       "      <td>175a06fdcf622c9455d0a77990b9302dj23ke</td>\n",
       "      <td>ce609704d5feae85f5d4dadb83b93ea34yskz</td>\n",
       "      <td>06d532f2346e5e4b2ba9352cb9a0c412mpruk</td>\n",
       "      <td>0.0</td>\n",
       "    </tr>\n",
       "    <tr>\n",
       "      <th>591</th>\n",
       "      <td>e9c8ee7f783723fe8496dd35232d88f2or1r1</td>\n",
       "      <td>a3d2de7675556553a5f08e4c88d2c228yqv23</td>\n",
       "      <td>aea8eeadeb5ded2bb1d1aa1b6f418b591f98q</td>\n",
       "      <td>0.0</td>\n",
       "    </tr>\n",
       "    <tr>\n",
       "      <th>1437</th>\n",
       "      <td>031da7aea2d4b75ac8ecba4825bc1318yki1d</td>\n",
       "      <td>a890a785ea280d987880f2131d1ecf24fud63</td>\n",
       "      <td>ce98e45652a0076ea91b91de66b71f32en5jq</td>\n",
       "      <td>0.0</td>\n",
       "    </tr>\n",
       "    <tr>\n",
       "      <th>2012</th>\n",
       "      <td>84a769adc98498f52debfe57b93a0789556f4</td>\n",
       "      <td>fbe0ce34d6546ebd9e4c63afc68b085byd2tf</td>\n",
       "      <td>a3d2de7675556553a5f08e4c88d2c228fib6p</td>\n",
       "      <td>0.0</td>\n",
       "    </tr>\n",
       "  </tbody>\n",
       "</table>\n",
       "</div>"
      ],
      "text/plain": [
       "                                  bidder_id  \\\n",
       "1220  84560dfb1400fe920a29ca2c728acf1e25eli   \n",
       "147   3edae72a9d44c43524c0203ce38581d1790xh   \n",
       "319   a74e3962ca26514976056bae3c46d579emz6y   \n",
       "482   584d1d60d357a4ee1fd3b0a6a72de1dc4rodn   \n",
       "1393  64abb8a286b2be97349e8b17abcce6d9rygza   \n",
       "511   b1bc9ff2b98df742affda07c5977c7345dpm5   \n",
       "266   175a06fdcf622c9455d0a77990b9302dj23ke   \n",
       "591   e9c8ee7f783723fe8496dd35232d88f2or1r1   \n",
       "1437  031da7aea2d4b75ac8ecba4825bc1318yki1d   \n",
       "2012  84a769adc98498f52debfe57b93a0789556f4   \n",
       "\n",
       "                            payment_account  \\\n",
       "1220  c165a3c456b35ac135138f02ce1efa665a1pz   \n",
       "147   6ee9065c7f23516651fe5975fdb46a4ee8u98   \n",
       "319   a3d2de7675556553a5f08e4c88d2c228ph81s   \n",
       "482   a3d2de7675556553a5f08e4c88d2c228ztnjt   \n",
       "1393  a3d2de7675556553a5f08e4c88d2c22815b7y   \n",
       "511   8d6440f57adbd2563c102f4226c0e014b2wzs   \n",
       "266   ce609704d5feae85f5d4dadb83b93ea34yskz   \n",
       "591   a3d2de7675556553a5f08e4c88d2c228yqv23   \n",
       "1437  a890a785ea280d987880f2131d1ecf24fud63   \n",
       "2012  fbe0ce34d6546ebd9e4c63afc68b085byd2tf   \n",
       "\n",
       "                                    address  outcome  \n",
       "1220  6fc6c3ca58ac5f2d9098e022bb6acf59phg09      0.0  \n",
       "147   c1c47f4178a44b82f49bcb468b0d26d0ag7w5      0.0  \n",
       "319   75ff8da638ebe844ad5fe1a14e4e6fbawm8ud      0.0  \n",
       "482   a3d2de7675556553a5f08e4c88d2c228qiakd      0.0  \n",
       "1393  f1c490904e66a68a3a03c5be9faa6f44tprqm      0.0  \n",
       "511   dbc5678b0387bff64d5df269b116806cx8uh8      0.0  \n",
       "266   06d532f2346e5e4b2ba9352cb9a0c412mpruk      0.0  \n",
       "591   aea8eeadeb5ded2bb1d1aa1b6f418b591f98q      0.0  \n",
       "1437  ce98e45652a0076ea91b91de66b71f32en5jq      0.0  \n",
       "2012  a3d2de7675556553a5f08e4c88d2c228fib6p      0.0  "
      ]
     },
     "execution_count": 1,
     "metadata": {},
     "output_type": "execute_result"
    }
   ],
   "source": [
    "import pandas as pd\n",
    "\n",
    "# Change accordingly.\n",
    "bidders_file_path = \"../data/train.csv\"\n",
    "\n",
    "bidders_dataframe = pd.read_csv(bidders_file_path)\n",
    "\n",
    "sample_size = 10\n",
    "\n",
    "# Let's start by taking a small sample\n",
    "bidders_dataframe.sample(n=sample_size)"
   ]
  },
  {
   "cell_type": "markdown",
   "metadata": {},
   "source": [
    "As we can see above, all the relevant fields (besides outcome) are obfuscated. \n",
    "\n",
    "This doesn't mean they won't be useful for our model, but surely make things a bit harder to interpret for us."
   ]
  },
  {
   "cell_type": "code",
   "execution_count": 2,
   "metadata": {},
   "outputs": [
    {
     "name": "stdout",
     "output_type": "stream",
     "text": [
      "Number of total bidders: 2013\n",
      "Number of human bidders: 1910\n",
      "Number of bot bidders: 103\n",
      "Proportion of human bidders: 94.88%\n",
      "Proportion of bot bidders: 5.12%\n"
     ]
    }
   ],
   "source": [
    "# Totals\n",
    "total_bidders = len(bidders_dataframe)\n",
    "number_of_human_bidders = len(bidders_dataframe[bidders_dataframe['outcome'] == 0.0])\n",
    "number_of_bot_bidders = total_bidders - number_of_human_bidders\n",
    "\n",
    "# Proportions\n",
    "human_bidders_proportion = number_of_human_bidders / total_bidders\n",
    "bot_bidders_proportion = number_of_bot_bidders / total_bidders\n",
    "\n",
    "# Statistics\n",
    "print(\"Number of total bidders: {}\".format(total_bidders))\n",
    "print(\"Number of human bidders: {}\".format(number_of_human_bidders))\n",
    "print(\"Number of bot bidders: {}\".format(number_of_bot_bidders))\n",
    "print(\"Proportion of human bidders: {:.2%}\".format(human_bidders_proportion))\n",
    "print(\"Proportion of bot bidders: {:.2%}\".format(bot_bidders_proportion))"
   ]
  },
  {
   "cell_type": "markdown",
   "metadata": {},
   "source": [
    "The first thing we notice is that our dataset is highly unbalanced, where 1910 out of 2013 records represent human bidders (94.88%), whereas only a small percentage (5.12%) of the bidders were flagged as bots (103 out of 2013).\n",
    "\n",
    "For a better understanding of this situation, let's visualize it:"
   ]
  },
  {
   "cell_type": "code",
   "execution_count": 3,
   "metadata": {},
   "outputs": [
    {
     "data": {
      "image/png": "[encoded data removed]",
      "text/plain": [
       "<matplotlib.figure.Figure at 0x7fefb0199d30>"
      ]
     },
     "metadata": {},
     "output_type": "display_data"
    }
   ],
   "source": [
    "import matplotlib.pyplot as plt\n",
    "\n",
    "_, ax = plt.subplots()\n",
    "\n",
    "# Pie chart parameters\n",
    "pie_data = [number_of_human_bidders, number_of_bot_bidders]\n",
    "pie_labels = ('Humans', 'Bots')\n",
    "pie_labels_explode_coefficients = (0, 0.175)\n",
    "\n",
    "# Show the chart\n",
    "ax.pie(pie_data, labels=pie_labels, autopct='%1.2f%%', shadow=False, explode=pie_labels_explode_coefficients)\n",
    "plt.axis('equal')\n",
    "plt.show()"
   ]
  },
  {
   "cell_type": "code",
   "execution_count": null,
   "metadata": {
    "collapsed": true
   },
   "outputs": [],
   "source": []
  }
 ],
 "metadata": {
  "kernelspec": {
   "display_name": "Python 3",
   "language": "python",
   "name": "python3"
  },
  "language_info": {
   "codemirror_mode": {
    "name": "ipython",
    "version": 3
   },
   "file_extension": ".py",
   "mimetype": "text/x-python",
   "name": "python",
   "nbconvert_exporter": "python",
   "pygments_lexer": "ipython3",
   "version": "3.5.2"
  }
 },
 "nbformat": 4,
 "nbformat_minor": 1
}
