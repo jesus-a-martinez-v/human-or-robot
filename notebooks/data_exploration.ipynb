{
 "cells": [
  {
   "cell_type": "markdown",
   "metadata": {
    "collapsed": true
   },
   "source": [
    "# Data Exploration\n",
    "\n",
    "In this notebook we will be exploring both of our datasets:\n",
    "\n",
    " - **bidders** dataset, which is located in train.csv.\n",
    " - **bids** dataset, which is located in bids.csv.\n",
    " \n",
    "Let's start with the shortest one: **Bidders**"
   ]
  },
  {
   "cell_type": "markdown",
   "metadata": {},
   "source": [
    "## Bidders exploratory analysis"
   ]
  },
  {
   "cell_type": "markdown",
   "metadata": {},
   "source": [
    "### Loading the dataset\n",
    "\n",
    "Let's start by loading the dataset in a Pandas' dataframse.\n",
    "\n",
    "**NOTE**: We expect all the relevant files to be located in `../data`."
   ]
  },
  {
   "cell_type": "code",
   "execution_count": 1,
   "metadata": {},
   "outputs": [
    {
     "data": {
      "text/html": [
       "<div>\n",
       "<style>\n",
       "    .dataframe thead tr:only-child th {\n",
       "        text-align: right;\n",
       "    }\n",
       "\n",
       "    .dataframe thead th {\n",
       "        text-align: left;\n",
       "    }\n",
       "\n",
       "    .dataframe tbody tr th {\n",
       "        vertical-align: top;\n",
       "    }\n",
       "</style>\n",
       "<table border=\"1\" class=\"dataframe\">\n",
       "  <thead>\n",
       "    <tr style=\"text-align: right;\">\n",
       "      <th></th>\n",
       "      <th>bidder_id</th>\n",
       "      <th>payment_account</th>\n",
       "      <th>address</th>\n",
       "      <th>outcome</th>\n",
       "    </tr>\n",
       "  </thead>\n",
       "  <tbody>\n",
       "    <tr>\n",
       "      <th>664</th>\n",
       "      <td>9f101e80580cbff55a2307c028408a91nebzc</td>\n",
       "      <td>f2f793a2cf083c36627c022421aa0d954b71e</td>\n",
       "      <td>7c008e5dfba281d7403c5a02f3db22dchmh3o</td>\n",
       "      <td>0.0</td>\n",
       "    </tr>\n",
       "    <tr>\n",
       "      <th>258</th>\n",
       "      <td>245b584befa6a5b8c759491f5f3db580p2m5v</td>\n",
       "      <td>a3d2de7675556553a5f08e4c88d2c2287emi6</td>\n",
       "      <td>0f2352b1972bc44b422ca49f0dd46340nlf0v</td>\n",
       "      <td>0.0</td>\n",
       "    </tr>\n",
       "    <tr>\n",
       "      <th>22</th>\n",
       "      <td>d29003d7f3ec1f0e4ca9cc17e6389b4a4phcg</td>\n",
       "      <td>a0dc95936282ff8eef7ffa54f295255ctyafs</td>\n",
       "      <td>fa442b098896fe3f9aca16a6f100e597e5rky</td>\n",
       "      <td>0.0</td>\n",
       "    </tr>\n",
       "    <tr>\n",
       "      <th>1648</th>\n",
       "      <td>ff3ae9450581aa3de5d2326f70e39d20w8fbl</td>\n",
       "      <td>a3d2de7675556553a5f08e4c88d2c2281vlrv</td>\n",
       "      <td>c5734eca20f4a3b7920d0acad5bc059cs4680</td>\n",
       "      <td>0.0</td>\n",
       "    </tr>\n",
       "    <tr>\n",
       "      <th>306</th>\n",
       "      <td>3a8124eb9fd3977e43f5e0762d9a09d536rob</td>\n",
       "      <td>a3d2de7675556553a5f08e4c88d2c228igbge</td>\n",
       "      <td>a3d2de7675556553a5f08e4c88d2c228fdnbs</td>\n",
       "      <td>0.0</td>\n",
       "    </tr>\n",
       "    <tr>\n",
       "      <th>1194</th>\n",
       "      <td>3893d2c62d59c232112efd332bc342dap8b4j</td>\n",
       "      <td>a3d2de7675556553a5f08e4c88d2c228hhw28</td>\n",
       "      <td>14da5cd6232222e9f999374636cf0687ju21o</td>\n",
       "      <td>0.0</td>\n",
       "    </tr>\n",
       "    <tr>\n",
       "      <th>1794</th>\n",
       "      <td>99a3bacd3eb66c909a02b85402ac38dfskz65</td>\n",
       "      <td>a3d2de7675556553a5f08e4c88d2c228in9hc</td>\n",
       "      <td>d593c5df7f62078f7f82ee44e4e0bac268d5s</td>\n",
       "      <td>0.0</td>\n",
       "    </tr>\n",
       "    <tr>\n",
       "      <th>788</th>\n",
       "      <td>0a7446b63f183a4928ae762ed6cd1c4b894qz</td>\n",
       "      <td>a3d2de7675556553a5f08e4c88d2c228l2q8w</td>\n",
       "      <td>cec7849ebb5251484203d16efd34b76fuj68q</td>\n",
       "      <td>0.0</td>\n",
       "    </tr>\n",
       "    <tr>\n",
       "      <th>298</th>\n",
       "      <td>205c519be884c5b1c885f61c4ba8738a737qg</td>\n",
       "      <td>a3d2de7675556553a5f08e4c88d2c228o5y1h</td>\n",
       "      <td>a3d2de7675556553a5f08e4c88d2c228uzrav</td>\n",
       "      <td>0.0</td>\n",
       "    </tr>\n",
       "    <tr>\n",
       "      <th>517</th>\n",
       "      <td>dd1675bf26316cd4630087fb47d0ff8fsug8e</td>\n",
       "      <td>a3d2de7675556553a5f08e4c88d2c2289oht1</td>\n",
       "      <td>63ce78587e427547c60b44e54d51a4c9xlx4i</td>\n",
       "      <td>0.0</td>\n",
       "    </tr>\n",
       "  </tbody>\n",
       "</table>\n",
       "</div>"
      ],
      "text/plain": [
       "                                  bidder_id  \\\n",
       "664   9f101e80580cbff55a2307c028408a91nebzc   \n",
       "258   245b584befa6a5b8c759491f5f3db580p2m5v   \n",
       "22    d29003d7f3ec1f0e4ca9cc17e6389b4a4phcg   \n",
       "1648  ff3ae9450581aa3de5d2326f70e39d20w8fbl   \n",
       "306   3a8124eb9fd3977e43f5e0762d9a09d536rob   \n",
       "1194  3893d2c62d59c232112efd332bc342dap8b4j   \n",
       "1794  99a3bacd3eb66c909a02b85402ac38dfskz65   \n",
       "788   0a7446b63f183a4928ae762ed6cd1c4b894qz   \n",
       "298   205c519be884c5b1c885f61c4ba8738a737qg   \n",
       "517   dd1675bf26316cd4630087fb47d0ff8fsug8e   \n",
       "\n",
       "                            payment_account  \\\n",
       "664   f2f793a2cf083c36627c022421aa0d954b71e   \n",
       "258   a3d2de7675556553a5f08e4c88d2c2287emi6   \n",
       "22    a0dc95936282ff8eef7ffa54f295255ctyafs   \n",
       "1648  a3d2de7675556553a5f08e4c88d2c2281vlrv   \n",
       "306   a3d2de7675556553a5f08e4c88d2c228igbge   \n",
       "1194  a3d2de7675556553a5f08e4c88d2c228hhw28   \n",
       "1794  a3d2de7675556553a5f08e4c88d2c228in9hc   \n",
       "788   a3d2de7675556553a5f08e4c88d2c228l2q8w   \n",
       "298   a3d2de7675556553a5f08e4c88d2c228o5y1h   \n",
       "517   a3d2de7675556553a5f08e4c88d2c2289oht1   \n",
       "\n",
       "                                    address  outcome  \n",
       "664   7c008e5dfba281d7403c5a02f3db22dchmh3o      0.0  \n",
       "258   0f2352b1972bc44b422ca49f0dd46340nlf0v      0.0  \n",
       "22    fa442b098896fe3f9aca16a6f100e597e5rky      0.0  \n",
       "1648  c5734eca20f4a3b7920d0acad5bc059cs4680      0.0  \n",
       "306   a3d2de7675556553a5f08e4c88d2c228fdnbs      0.0  \n",
       "1194  14da5cd6232222e9f999374636cf0687ju21o      0.0  \n",
       "1794  d593c5df7f62078f7f82ee44e4e0bac268d5s      0.0  \n",
       "788   cec7849ebb5251484203d16efd34b76fuj68q      0.0  \n",
       "298   a3d2de7675556553a5f08e4c88d2c228uzrav      0.0  \n",
       "517   63ce78587e427547c60b44e54d51a4c9xlx4i      0.0  "
      ]
     },
     "execution_count": 1,
     "metadata": {},
     "output_type": "execute_result"
    }
   ],
   "source": [
    "import pandas as pd\n",
    "\n",
    "# Change accordingly.\n",
    "bidders_file_path = \"../data/train.csv\"\n",
    "\n",
    "bidders_dataframe = pd.read_csv(bidders_file_path)\n",
    "\n",
    "sample_size = 10\n",
    "\n",
    "# Let's start by taking a small sample\n",
    "bidders_dataframe.sample(n=sample_size)"
   ]
  },
  {
   "cell_type": "markdown",
   "metadata": {},
   "source": [
    "As we can see above, all the relevant fields (besides outcome) are obfuscated. \n",
    "\n",
    "This doesn't mean they won't be useful for our model, but surely make things a bit harder to interpret for us."
   ]
  },
  {
   "cell_type": "markdown",
   "metadata": {},
   "source": [
    "### Descriptive statistics"
   ]
  },
  {
   "cell_type": "code",
   "execution_count": 2,
   "metadata": {},
   "outputs": [
    {
     "name": "stdout",
     "output_type": "stream",
     "text": [
      "Number of total bidders: 2,013\n",
      "Number of human bidders: 1,910\n",
      "Number of bot bidders: 103\n",
      "Proportion of human bidders: 94.88%\n",
      "Proportion of bot bidders: 5.12%\n"
     ]
    }
   ],
   "source": [
    "# Totals\n",
    "total_bidders = len(bidders_dataframe)\n",
    "number_of_human_bidders = len(bidders_dataframe[bidders_dataframe['outcome'] == 0.0])\n",
    "number_of_bot_bidders = total_bidders - number_of_human_bidders\n",
    "\n",
    "# Proportions\n",
    "human_bidders_proportion = number_of_human_bidders / total_bidders\n",
    "bot_bidders_proportion = number_of_bot_bidders / total_bidders\n",
    "\n",
    "# Statistics\n",
    "print(\"Number of total bidders: {:,}\".format(total_bidders))\n",
    "print(\"Number of human bidders: {:,}\".format(number_of_human_bidders))\n",
    "print(\"Number of bot bidders: {:,}\".format(number_of_bot_bidders))\n",
    "print(\"Proportion of human bidders: {:.2%}\".format(human_bidders_proportion))\n",
    "print(\"Proportion of bot bidders: {:.2%}\".format(bot_bidders_proportion))"
   ]
  },
  {
   "cell_type": "markdown",
   "metadata": {},
   "source": [
    "The first thing we notice is that our dataset is highly unbalanced, where 1910 out of 2013 records represent human bidders (94.88%), whereas only a small percentage (5.12%) of the bidders were flagged as bots (103 out of 2013).\n",
    "\n",
    "For a better understanding of this situation, let's visualize it:"
   ]
  },
  {
   "cell_type": "code",
   "execution_count": 3,
   "metadata": {},
   "outputs": [
    {
     "data": {
      "image/png": "[encoded data removed]",
      "text/plain": [
       "<matplotlib.figure.Figure at 0x7fe171bf3d30>"
      ]
     },
     "metadata": {},
     "output_type": "display_data"
    }
   ],
   "source": [
    "import matplotlib.pyplot as plt\n",
    "\n",
    "_, ax = plt.subplots()\n",
    "\n",
    "# Pie chart parameters\n",
    "pie_data = [number_of_human_bidders, number_of_bot_bidders]\n",
    "pie_labels = ('Humans', 'Bots')\n",
    "pie_labels_explode_coefficients = (0, 0.175)\n",
    "\n",
    "# Show the chart\n",
    "ax.pie(pie_data, labels=pie_labels, autopct='%1.2f%%', shadow=False, explode=pie_labels_explode_coefficients)\n",
    "plt.axis('equal')\n",
    "plt.show()"
   ]
  },
  {
   "cell_type": "markdown",
   "metadata": {},
   "source": [
    "___"
   ]
  },
  {
   "cell_type": "markdown",
   "metadata": {},
   "source": [
    "## Bids exploratory analysis\n",
    "\n",
    "Let's now proceed to explore the **bids** dataset.\n",
    "\n",
    "**NOTE**: We expect all the relevant files to be located in `../data`."
   ]
  },
  {
   "cell_type": "code",
   "execution_count": 4,
   "metadata": {},
   "outputs": [
    {
     "data": {
      "text/html": [
       "<div>\n",
       "<style>\n",
       "    .dataframe thead tr:only-child th {\n",
       "        text-align: right;\n",
       "    }\n",
       "\n",
       "    .dataframe thead th {\n",
       "        text-align: left;\n",
       "    }\n",
       "\n",
       "    .dataframe tbody tr th {\n",
       "        vertical-align: top;\n",
       "    }\n",
       "</style>\n",
       "<table border=\"1\" class=\"dataframe\">\n",
       "  <thead>\n",
       "    <tr style=\"text-align: right;\">\n",
       "      <th></th>\n",
       "      <th>bid_id</th>\n",
       "      <th>bidder_id</th>\n",
       "      <th>auction</th>\n",
       "      <th>merchandise</th>\n",
       "      <th>device</th>\n",
       "      <th>time</th>\n",
       "      <th>country</th>\n",
       "      <th>ip</th>\n",
       "      <th>url</th>\n",
       "    </tr>\n",
       "  </thead>\n",
       "  <tbody>\n",
       "    <tr>\n",
       "      <th>0</th>\n",
       "      <td>0</td>\n",
       "      <td>8dac2b259fd1c6d1120e519fb1ac14fbqvax8</td>\n",
       "      <td>ewmzr</td>\n",
       "      <td>jewelry</td>\n",
       "      <td>phone0</td>\n",
       "      <td>9759243157894736</td>\n",
       "      <td>us</td>\n",
       "      <td>69.166.231.58</td>\n",
       "      <td>vasstdc27m7nks3</td>\n",
       "    </tr>\n",
       "    <tr>\n",
       "      <th>1</th>\n",
       "      <td>1</td>\n",
       "      <td>668d393e858e8126275433046bbd35c6tywop</td>\n",
       "      <td>aeqok</td>\n",
       "      <td>furniture</td>\n",
       "      <td>phone1</td>\n",
       "      <td>9759243157894736</td>\n",
       "      <td>in</td>\n",
       "      <td>50.201.125.84</td>\n",
       "      <td>jmqlhflrzwuay9c</td>\n",
       "    </tr>\n",
       "    <tr>\n",
       "      <th>2</th>\n",
       "      <td>2</td>\n",
       "      <td>aa5f360084278b35d746fa6af3a7a1a5ra3xe</td>\n",
       "      <td>wa00e</td>\n",
       "      <td>home goods</td>\n",
       "      <td>phone2</td>\n",
       "      <td>9759243157894736</td>\n",
       "      <td>py</td>\n",
       "      <td>112.54.208.157</td>\n",
       "      <td>vasstdc27m7nks3</td>\n",
       "    </tr>\n",
       "    <tr>\n",
       "      <th>3</th>\n",
       "      <td>3</td>\n",
       "      <td>3939ac3ef7d472a59a9c5f893dd3e39fh9ofi</td>\n",
       "      <td>jefix</td>\n",
       "      <td>jewelry</td>\n",
       "      <td>phone4</td>\n",
       "      <td>9759243157894736</td>\n",
       "      <td>in</td>\n",
       "      <td>18.99.175.133</td>\n",
       "      <td>vasstdc27m7nks3</td>\n",
       "    </tr>\n",
       "    <tr>\n",
       "      <th>4</th>\n",
       "      <td>4</td>\n",
       "      <td>8393c48eaf4b8fa96886edc7cf27b372dsibi</td>\n",
       "      <td>jefix</td>\n",
       "      <td>jewelry</td>\n",
       "      <td>phone5</td>\n",
       "      <td>9759243157894736</td>\n",
       "      <td>in</td>\n",
       "      <td>145.138.5.37</td>\n",
       "      <td>vasstdc27m7nks3</td>\n",
       "    </tr>\n",
       "    <tr>\n",
       "      <th>5</th>\n",
       "      <td>5</td>\n",
       "      <td>e8291466de91b0eb4e1515143c7f74dexy2yr</td>\n",
       "      <td>3vi4t</td>\n",
       "      <td>mobile</td>\n",
       "      <td>phone7</td>\n",
       "      <td>9759243157894736</td>\n",
       "      <td>ru</td>\n",
       "      <td>91.107.221.27</td>\n",
       "      <td>vasstdc27m7nks3</td>\n",
       "    </tr>\n",
       "    <tr>\n",
       "      <th>6</th>\n",
       "      <td>6</td>\n",
       "      <td>eef4c687daf977f64fc1d08675c44444raj3s</td>\n",
       "      <td>kjlzx</td>\n",
       "      <td>mobile</td>\n",
       "      <td>phone2</td>\n",
       "      <td>9759243210526315</td>\n",
       "      <td>th</td>\n",
       "      <td>152.235.155.159</td>\n",
       "      <td>j9nl1xmo6fqhcc6</td>\n",
       "    </tr>\n",
       "    <tr>\n",
       "      <th>7</th>\n",
       "      <td>7</td>\n",
       "      <td>ab056855c9ca9d36390feae1fa485883issyg</td>\n",
       "      <td>f5f6k</td>\n",
       "      <td>home goods</td>\n",
       "      <td>phone8</td>\n",
       "      <td>9759243210526315</td>\n",
       "      <td>id</td>\n",
       "      <td>3.210.112.183</td>\n",
       "      <td>hnt6hu93a3z1cpc</td>\n",
       "    </tr>\n",
       "    <tr>\n",
       "      <th>8</th>\n",
       "      <td>8</td>\n",
       "      <td>d600dc03b11e7d782e1e4dae091b084a1h5ch</td>\n",
       "      <td>h7jjx</td>\n",
       "      <td>home goods</td>\n",
       "      <td>phone9</td>\n",
       "      <td>9759243210526315</td>\n",
       "      <td>th</td>\n",
       "      <td>103.64.157.225</td>\n",
       "      <td>vasstdc27m7nks3</td>\n",
       "    </tr>\n",
       "    <tr>\n",
       "      <th>9</th>\n",
       "      <td>9</td>\n",
       "      <td>a58ace8b671a7531c88814bc86b2a34cf0crb</td>\n",
       "      <td>3zpkj</td>\n",
       "      <td>sporting goods</td>\n",
       "      <td>phone4</td>\n",
       "      <td>9759243210526315</td>\n",
       "      <td>za</td>\n",
       "      <td>123.28.123.226</td>\n",
       "      <td>vasstdc27m7nks3</td>\n",
       "    </tr>\n",
       "  </tbody>\n",
       "</table>\n",
       "</div>"
      ],
      "text/plain": [
       "   bid_id                              bidder_id auction     merchandise  \\\n",
       "0       0  8dac2b259fd1c6d1120e519fb1ac14fbqvax8   ewmzr         jewelry   \n",
       "1       1  668d393e858e8126275433046bbd35c6tywop   aeqok       furniture   \n",
       "2       2  aa5f360084278b35d746fa6af3a7a1a5ra3xe   wa00e      home goods   \n",
       "3       3  3939ac3ef7d472a59a9c5f893dd3e39fh9ofi   jefix         jewelry   \n",
       "4       4  8393c48eaf4b8fa96886edc7cf27b372dsibi   jefix         jewelry   \n",
       "5       5  e8291466de91b0eb4e1515143c7f74dexy2yr   3vi4t          mobile   \n",
       "6       6  eef4c687daf977f64fc1d08675c44444raj3s   kjlzx          mobile   \n",
       "7       7  ab056855c9ca9d36390feae1fa485883issyg   f5f6k      home goods   \n",
       "8       8  d600dc03b11e7d782e1e4dae091b084a1h5ch   h7jjx      home goods   \n",
       "9       9  a58ace8b671a7531c88814bc86b2a34cf0crb   3zpkj  sporting goods   \n",
       "\n",
       "   device              time country               ip              url  \n",
       "0  phone0  9759243157894736      us    69.166.231.58  vasstdc27m7nks3  \n",
       "1  phone1  9759243157894736      in    50.201.125.84  jmqlhflrzwuay9c  \n",
       "2  phone2  9759243157894736      py   112.54.208.157  vasstdc27m7nks3  \n",
       "3  phone4  9759243157894736      in    18.99.175.133  vasstdc27m7nks3  \n",
       "4  phone5  9759243157894736      in     145.138.5.37  vasstdc27m7nks3  \n",
       "5  phone7  9759243157894736      ru    91.107.221.27  vasstdc27m7nks3  \n",
       "6  phone2  9759243210526315      th  152.235.155.159  j9nl1xmo6fqhcc6  \n",
       "7  phone8  9759243210526315      id    3.210.112.183  hnt6hu93a3z1cpc  \n",
       "8  phone9  9759243210526315      th   103.64.157.225  vasstdc27m7nks3  \n",
       "9  phone4  9759243210526315      za   123.28.123.226  vasstdc27m7nks3  "
      ]
     },
     "execution_count": 4,
     "metadata": {},
     "output_type": "execute_result"
    }
   ],
   "source": [
    "# Change accordingly.\n",
    "bids_file_path = \"../data/bids.csv\"\n",
    "\n",
    "bids_dataframe = pd.read_csv(bids_file_path)\n",
    "\n",
    "sample_size = 10\n",
    "\n",
    "# Let's start by taking a small sample\n",
    "#bids_dataframe.sample(n=sample_size)\n",
    "bids_dataframe.head(n=sample_size)"
   ]
  },
  {
   "cell_type": "markdown",
   "metadata": {},
   "source": [
    "As we can see above, fields such as time, bidder_id, auction, device and url are obfuscated. \n",
    "\n",
    "This doesn't mean they won't be useful for our model, but surely make things a bit harder to interpret for us."
   ]
  },
  {
   "cell_type": "markdown",
   "metadata": {
    "collapsed": true
   },
   "source": [
    "### Descriptive statistics"
   ]
  },
  {
   "cell_type": "code",
   "execution_count": 5,
   "metadata": {},
   "outputs": [
    {
     "name": "stdout",
     "output_type": "stream",
     "text": [
      "Number of bids: 7,656,334\n",
      "Number of auctions: 15,051\n",
      "Number of total bidders in bids dataset: 6,614\n",
      "Number of devices: 7,351\n",
      "Number of countries: 200\n",
      "Number of IPs: 2,303,991\n",
      "Number of URLs: 1,786,351\n",
      "Number of merchandise categories: 10\n"
     ]
    }
   ],
   "source": [
    "# Totals\n",
    "total_bids = len(bids_dataframe)\n",
    "total_auctions = len(set(bids_dataframe['auction']))\n",
    "total_bidders_in_bids_dataframe = len(set(bids_dataframe['bidder_id']))\n",
    "total_devices = len(set(bids_dataframe['device']))\n",
    "total_countries = len(set(bids_dataframe['country']))\n",
    "total_ips = len(set(bids_dataframe['ip']))\n",
    "total_urls = len(set(bids_dataframe['url']))\n",
    "total_merchandise_categories = len(set(bids_dataframe['merchandise']))\n",
    "\n",
    "print(\"Number of bids: {:,}\".format(total_bids))\n",
    "print(\"Number of auctions: {:,}\".format(total_auctions))\n",
    "print(\"Number of total bidders in bids dataset: {:,}\".format(total_bidders_in_bids_dataframe))\n",
    "print(\"Number of devices: {:,}\".format(total_devices))\n",
    "print(\"Number of countries: {:,}\".format(total_countries))\n",
    "print(\"Number of IPs: {:,}\".format(total_ips))\n",
    "print(\"Number of URLs: {:,}\".format(total_urls))\n",
    "print(\"Number of merchandise categories: {:,}\".format(total_merchandise_categories))"
   ]
  },
  {
   "cell_type": "markdown",
   "metadata": {},
   "source": [
    "As we can see, there are a vast amount of bids (7,656,334) distributed along 15,051. \n",
    "\n",
    "Also there are 6,614 distinct bidders in this dataset, which contrasts with the 2,013 in the training set.\n",
    "\n",
    "These bids where made from 7,351 distinct mobile devices models, from 200 countries and from 2,303,991 different IP addresses. \n",
    "\n",
    "All the bids fall in one of ten categories. \n",
    "\n",
    "Finally, these came from 1,786,351 distinct URLS."
   ]
  },
  {
   "cell_type": "code",
   "execution_count": 11,
   "metadata": {},
   "outputs": [
    {
     "name": "stdout",
     "output_type": "stream",
     "text": [
      "Average number of auctions per user: 57.807831871787116\n",
      "Median of auctions per user: 10.0\n",
      "Mode of auctions per user: 1\n",
      "User with more auctions: 1726\n",
      "User with less auctions: 1\n",
      "-----------------------------\n",
      "Average number of bids per user: 1157.595101300272\n",
      "Median of bids per user: 18.0\n",
      "Mode of bids per user: 1\n",
      "User with more bids: 515033\n",
      "User with less bids: 1\n",
      "-----------------------------\n",
      "Average number of countries per user: 12.72422134865437\n",
      "Median of countries per user: 3.0\n",
      "Mode of countries per user: 1\n",
      "User with more countries: 178\n",
      "User with less countries: 0\n",
      "-----------------------------\n",
      "Average number of IPs per user: 544.0963108557605\n",
      "Median of IPs per user: 12.0\n",
      "Mode of IPs per user: 1\n",
      "User with more IPs: 111918\n",
      "User with less IPs: 1\n",
      "-----------------------------\n"
     ]
    }
   ],
   "source": [
    "data_per_user = bids_dataframe.groupby(['bidder_id'])\n",
    "\n",
    "def get_user_statistics_per_feature(feature_column):\n",
    "    return data_per_user[feature_column].nunique()\n",
    "\n",
    "def print_user_statistics_per_feature(feature_name, feature_per_user):\n",
    "    mean_feature_per_user = feature_per_user.mean()\n",
    "    median_feature_per_user = feature_per_user.median()\n",
    "    mode_feature_per_user = feature_per_user.mode()\n",
    "    max_feature_per_user = feature_per_user.max()\n",
    "    min_feature_per_user = feature_per_user.min()\n",
    "    \n",
    "    print(\"Average number of {} per user: {}\".format(feature_name, mean_feature_per_user))\n",
    "    print(\"Median of {} per user: {}\".format(feature_name, median_feature_per_user))\n",
    "    print(\"Mode of {} per user: {}\".format(feature_name, mode_feature_per_user[0]))\n",
    "    print(\"User with more {}: {}\".format(feature_name, max_feature_per_user))\n",
    "    print(\"User with less {}: {}\".format(feature_name, min_feature_per_user))\n",
    "    print(\"-----------------------------\")\n",
    "    \n",
    "    return feature_per_user\n",
    "\n",
    "features_per_user = {}\n",
    "for feat, column in [('auctions', 'auction'), ('bids', 'bid_id'), ('countries', 'country'), ('IPs', 'ip')]:\n",
    "    features_per_user[column] = get_user_statistics_per_feature(column)\n",
    "    print_user_statistics_per_feature(feat, features_per_user[column])\n",
    "          \n",
    "bids_per_auction_ratio_per_user = features_per_user['bid_id'] / features_per_user['auction']\n",
    "average_response_time_per_user = data_per_user['time'].apply(lambda x: x.diff().mean()).fillna(0)"
   ]
  },
  {
   "cell_type": "markdown",
   "metadata": {},
   "source": [
    "One key aspect that we can notice is the huge distance between the mean and the median in the four features (auctions, bids, contries, ips) selected above. Also, the range of values for each feature is wildly spread. Take bids for instance: The highest number of bids a user made is 515,033, while the most repeated number of bids per user is 1 (also the minimum). Clearly, the highest values have a stronger influence on the mean, which is around 1157 bids per user. The fact that the value that sits at the center of the distribution of bids per user is 18 (i.e., the median) hints us about the skeweness of it. \n",
    "\n",
    "The same analysis applies for countries, IPs and auctions."
   ]
  },
  {
   "cell_type": "markdown",
   "metadata": {
    "collapsed": true
   },
   "source": [
    "# Exploratory Visualization"
   ]
  },
  {
   "cell_type": "markdown",
   "metadata": {},
   "source": [
    "Given our aim is to determine which information or bidding behavior is characteristic of bot users, we are going to focus on visualizing only data related to bidders.\n",
    "\n",
    "Let's start by seeing again the distribution between bidders labeled as bots and as humans:"
   ]
  },
  {
   "cell_type": "code",
   "execution_count": 12,
   "metadata": {},
   "outputs": [
    {
     "data": {
      "image/png": "[encoded data removed]",
      "text/plain": [
       "<matplotlib.figure.Figure at 0x7fe1678507b8>"
      ]
     },
     "metadata": {},
     "output_type": "display_data"
    }
   ],
   "source": [
    "import numpy as np\n",
    "y_pos = np.arange(len(pie_labels))\n",
    " \n",
    "plt.bar(y_pos, pie_data, align='center', alpha=0.5, color=['green', 'red'])\n",
    "plt.xticks(y_pos, pie_labels)\n",
    "plt.ylabel('Count')\n",
    "plt.title('Number of users per category')\n",
    "\n",
    "plt.show()"
   ]
  },
  {
   "cell_type": "markdown",
   "metadata": {},
   "source": [
    "Let's now visualize auctions per user:"
   ]
  },
  {
   "cell_type": "code",
   "execution_count": 13,
   "metadata": {},
   "outputs": [
    {
     "data": {
      "image/png": "[encoded data removed]",
      "text/plain": [
       "<matplotlib.figure.Figure at 0x7fe14f21bc50>"
      ]
     },
     "metadata": {},
     "output_type": "display_data"
    }
   ],
   "source": [
    "plt.figure(figsize=(10,10))\n",
    "# Explore log=True, cumulative=True\n",
    "plt.hist(features_per_user['auction'], bins='auto')\n",
    "plt.yticks(range(0, 2800, 100))\n",
    "plt.xticks(range(0, 1800, 100))\n",
    "plt.title(\"Distribution of auctions per user\")\n",
    "plt.xlabel(\"Number of auctions\")\n",
    "plt.ylabel(\"Frequency\")\n",
    "plt.show()"
   ]
  },
  {
   "cell_type": "markdown",
   "metadata": {},
   "source": [
    "The distribution of auctions per user is skewed to the left. This means that most users participate in less than 10 auctions. This is noticeable in the highest peak at the far left in the graph.\n",
    "\n",
    "Less than 100 users participate in 100 auctions or more. As we approach to the tail of the distribution, we can notice tiny bins which are most likely comprised of less than 10 points, which means 10 or less users participate in a high number of auctions."
   ]
  },
  {
   "cell_type": "code",
   "execution_count": 19,
   "metadata": {},
   "outputs": [
    {
     "data": {
      "image/png": "[encoded data removed]",
      "text/plain": [
       "<matplotlib.figure.Figure at 0x7fe16bf0cbe0>"
      ]
     },
     "metadata": {},
     "output_type": "display_data"
    }
   ],
   "source": [
    "plt.figure(figsize=(10,10))\n",
    "# Explore log=True, cumulative=True\n",
    "plt.hist(features_per_user['bid_id'], bins='auto', cumulative=True, color='green')\n",
    "#plt.yticks(range(0, 2800, 100))\n",
    "#plt.xticks(range(0, 1800, 100))\n",
    "plt.title(\"Distribution of bids per user\")\n",
    "plt.xlabel(\"Number of bids\")\n",
    "plt.ylabel(\"Frequency\")\n",
    "plt.show()"
   ]
  },
  {
   "cell_type": "markdown",
   "metadata": {},
   "source": [
    "An alternative to the classic histograms, is to visualize the cumulative effect of each class in the overall distribution of data.\n",
    "\n",
    "As we can see in the above plot, the distribution peaks or gains most of its width in the far left. This means that most of the data is comprised of users that bidded only once. This makes sense, given the fact that we know the mode (i.e., the most repeated value) is 1, and the median is 18. \n",
    "\n",
    "As we move to the right side of the graph, we can the slope is almost zero, which translates in a negligible contribution to the density of the distribution from the other classes (users that bidded hundreds of thousands of times)."
   ]
  },
  {
   "cell_type": "code",
   "execution_count": 15,
   "metadata": {},
   "outputs": [
    {
     "data": {
      "image/png": "[encoded data removed]",
      "text/plain": [
       "<matplotlib.figure.Figure at 0x7fe16c4a6c18>"
      ]
     },
     "metadata": {},
     "output_type": "display_data"
    }
   ],
   "source": [
    "plt.figure(figsize=(10,10))\n",
    "# Explore log=True, cumulative=True\n",
    "plt.hist(features_per_user['country'], bins='auto', color='red')\n",
    "#plt.yticks(range(0, 2800, 100))\n",
    "#plt.xticks(range(0, 1800, 100))\n",
    "plt.title(\"Distribution of countries per user\")\n",
    "plt.xlabel(\"Number of countries\")\n",
    "plt.ylabel(\"Frequency\")\n",
    "plt.show()"
   ]
  },
  {
   "cell_type": "markdown",
   "metadata": {},
   "source": [
    "This graph is very similar to the histogram of auctions per user. The same pattern applies here: Most of the data is located at the left side of the graph, which means that most users bidded from less than two countries. Then, we have a skewed distribution to the right."
   ]
  },
  {
   "cell_type": "code",
   "execution_count": 16,
   "metadata": {},
   "outputs": [
    {
     "data": {
      "image/png": "[encoded data removed]",
      "text/plain": [
       "<matplotlib.figure.Figure at 0x7fe16bf8a208>"
      ]
     },
     "metadata": {},
     "output_type": "display_data"
    }
   ],
   "source": [
    "plt.figure(figsize=(10,10))\n",
    "# Explore log=True, cumulative=True\n",
    "#plt.plot(sorted(ips_per_user.values, reverse=True))\n",
    "plt.hist(features_per_user['ip'], bins='auto', color='purple', cumulative=True)\n",
    "#plt.yticks(range(0, 2800, 100))\n",
    "#plt.xticks(range(0, 1800, 100))\n",
    "plt.title(\"Distribution of IPs per user\")\n",
    "plt.xlabel(\"Number of IPs\")\n",
    "plt.ylabel(\"Frequency\")\n",
    "plt.show()"
   ]
  },
  {
   "cell_type": "markdown",
   "metadata": {},
   "source": [
    "This graph is very similar to the cumulative histogram of bids per user. The same pattern applies here: Most of the data is located at the left side of the graph, which means that most users bidded from less than a couple of different IP addresses. \n",
    "\n",
    "Yet again, the contribution of users with thousands of distinct bidding IPs is negligible."
   ]
  },
  {
   "cell_type": "code",
   "execution_count": 17,
   "metadata": {},
   "outputs": [
    {
     "data": {
      "image/png": "[encoded data removed]",
      "text/plain": [
       "<matplotlib.figure.Figure at 0x7fe1a45d6a58>"
      ]
     },
     "metadata": {},
     "output_type": "display_data"
    }
   ],
   "source": [
    "# Explore log=True, cumulative=True\n",
    "plt.plot(sorted(bids_per_auction_ratio_per_user.values, reverse=True), 'r+--')\n",
    "#plt.yticks(range(0, 2800, 100))\n",
    "#plt.xticks(range(0, 1800, 100))\n",
    "plt.title(\"Distribution of bids per user\")\n",
    "plt.xlabel(\"Number of bids\")\n",
    "plt.ylabel(\"Frequency\")\n",
    "plt.show()"
   ]
  }
 ],
 "metadata": {
  "kernelspec": {
   "display_name": "Python 3",
   "language": "python",
   "name": "python3"
  },
  "language_info": {
   "codemirror_mode": {
    "name": "ipython",
    "version": 3
   },
   "file_extension": ".py",
   "mimetype": "text/x-python",
   "name": "python",
   "nbconvert_exporter": "python",
   "pygments_lexer": "ipython3",
   "version": "3.5.2"
  }
 },
 "nbformat": 4,
 "nbformat_minor": 1
}
